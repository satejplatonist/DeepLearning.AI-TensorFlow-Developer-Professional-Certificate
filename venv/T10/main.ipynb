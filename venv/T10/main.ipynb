{
 "cells": [
  {
   "cell_type": "code",
   "execution_count": 1,
   "id": "e0808862",
   "metadata": {},
   "outputs": [],
   "source": [
    "import numpy as np\n",
    "import matplotlib.pyplot as plt\n",
    "import tensorflow as tf"
   ]
  },
  {
   "cell_type": "code",
   "execution_count": 2,
   "id": "dd861cca",
   "metadata": {},
   "outputs": [
    {
     "name": "stdout",
     "output_type": "stream",
     "text": [
      "Num GPUs Available:  0\n"
     ]
    }
   ],
   "source": [
    "print(\"Num GPUs Available: \", len(tf.config.list_physical_devices('GPU')))"
   ]
  },
  {
   "cell_type": "code",
   "execution_count": 3,
   "id": "c79ec98f",
   "metadata": {},
   "outputs": [
    {
     "name": "stdout",
     "output_type": "stream",
     "text": [
      "False\n"
     ]
    }
   ],
   "source": [
    "print(tf.sysconfig.get_build_info()['is_cuda_build'])"
   ]
  },
  {
   "cell_type": "code",
   "execution_count": 4,
   "id": "7811a00b",
   "metadata": {},
   "outputs": [],
   "source": [
    "pretrained_model_path = r\"D:\\TensorflowPractice\\venv\\Models\\Inception\\inception_v3_weights_tf_dim_ordering_tf_kernels_notop.h5\""
   ]
  },
  {
   "cell_type": "code",
   "execution_count": 5,
   "id": "0b099140",
   "metadata": {},
   "outputs": [],
   "source": [
    "pretrained_model = tf.keras.applications.inception_v3.InceptionV3(\n",
    "    input_shape=(150,150,3),\n",
    "    include_top = False,\n",
    "    weights = None\n",
    ")"
   ]
  },
  {
   "cell_type": "code",
   "execution_count": 6,
   "id": "8057dbab",
   "metadata": {},
   "outputs": [],
   "source": [
    "pretrained_model.load_weights(pretrained_model_path)"
   ]
  },
  {
   "cell_type": "code",
   "execution_count": 7,
   "id": "e96ed4b9",
   "metadata": {},
   "outputs": [],
   "source": [
    "for layer in pretrained_model.layers:\n",
    "    layer.trainable = False"
   ]
  },
  {
   "cell_type": "code",
   "execution_count": 8,
   "id": "727963e3",
   "metadata": {},
   "outputs": [],
   "source": [
    "last_layer = pretrained_model.get_layer('mixed7')\n",
    "last_output = last_layer.output"
   ]
  },
  {
   "cell_type": "code",
   "execution_count": 9,
   "id": "7bb0b268",
   "metadata": {},
   "outputs": [
    {
     "data": {
      "text/plain": [
       "<KerasTensor shape=(None, 7, 7, 768), dtype=float32, sparse=False, ragged=False, name=keras_tensor_228>"
      ]
     },
     "execution_count": 9,
     "metadata": {},
     "output_type": "execute_result"
    }
   ],
   "source": [
    "last_output"
   ]
  },
  {
   "cell_type": "code",
   "execution_count": 10,
   "id": "2f935e99",
   "metadata": {},
   "outputs": [],
   "source": [
    "x = tf.keras.layers.Flatten()(last_output)\n",
    "x = tf.keras.layers.Dense(1024,activation='relu')(x)\n",
    "x = tf.keras.layers.Dense(1,activation='sigmoid')(x)\n",
    "\n",
    "model = tf.keras.Model(pretrained_model.input,x)\n",
    "\n",
    "model.compile(\n",
    "    loss='binary_crossentropy', \n",
    "    optimizer = tf.keras.optimizers.RMSprop(learning_rate=0.0001), \n",
    "    metrics = ['accuracy'])"
   ]
  },
  {
   "cell_type": "code",
   "execution_count": 11,
   "id": "95c23d1b",
   "metadata": {},
   "outputs": [
    {
     "name": "stdout",
     "output_type": "stream",
     "text": [
      "Found 1027 files belonging to 2 classes.\n",
      "Found 256 files belonging to 2 classes.\n"
     ]
    }
   ],
   "source": [
    "TRAIN_DIR = r\"D:\\TensorflowPractice\\venv\\Datasets\\horse-or-human\"\n",
    "VAL_DIR = r\"D:\\TensorflowPractice\\venv\\Datasets\\validation-horse-or-human\"\n",
    "\n",
    "train_dataset = tf.keras.utils.image_dataset_from_directory(\n",
    "    TRAIN_DIR,\n",
    "    image_size = (150,150),\n",
    "    batch_size = 32,\n",
    "    label_mode = 'binary'\n",
    ")\n",
    "\n",
    "validation_dataset = tf.keras.utils.image_dataset_from_directory(\n",
    "    VAL_DIR,\n",
    "    image_size = (150,150),\n",
    "    batch_size = 32,\n",
    "    label_mode = 'binary'\n",
    ")"
   ]
  },
  {
   "cell_type": "code",
   "execution_count": 12,
   "id": "8fbf693d",
   "metadata": {},
   "outputs": [],
   "source": [
    "trained_dataset_shuffled = (\n",
    "    train_dataset\n",
    "    .cache()\n",
    "    .shuffle(1000)\n",
    "    .prefetch(tf.data.AUTOTUNE)\n",
    ") \n",
    "\n",
    "validation_dataset_shuffled = (\n",
    "    validation_dataset\n",
    "    .cache()\n",
    "    .prefetch(tf.data.AUTOTUNE)\n",
    ")"
   ]
  },
  {
   "cell_type": "code",
   "execution_count": 13,
   "id": "7e5d1319",
   "metadata": {},
   "outputs": [],
   "source": [
    "rescale_layer = tf.keras.layers.Rescaling(1./255)\n",
    "\n",
    "train_dataset_rescaled = trained_dataset_shuffled.map(lambda image, label: (rescale_layer(image),label))\n",
    "validation_dataset_rescaled = validation_dataset_shuffled.map(lambda image, label: (rescale_layer(image),label))"
   ]
  },
  {
   "cell_type": "code",
   "execution_count": 14,
   "id": "2df03abf",
   "metadata": {},
   "outputs": [],
   "source": [
    "model_augmentation = tf.keras.Sequential([\n",
    "    tf.keras.layers.Input(shape=(150,150,3)),\n",
    "    tf.keras.layers.RandomFlip(mode=\"horizontal_and_vertical\"),\n",
    "    tf.keras.layers.RandomRotation(factor=0.2,fill_mode='nearest'),\n",
    "    tf.keras.layers.RandomTranslation(0.2,0.2,fill_mode='nearest'),\n",
    "    tf.keras.layers.RandomZoom(0.2,fill_mode='nearest')\n",
    "])"
   ]
  },
  {
   "cell_type": "code",
   "execution_count": 15,
   "id": "22e75653",
   "metadata": {},
   "outputs": [],
   "source": [
    "model_with_aug = tf.keras.Sequential([\n",
    "    model_augmentation,\n",
    "    model\n",
    "])"
   ]
  },
  {
   "cell_type": "code",
   "execution_count": 16,
   "id": "679b6db0",
   "metadata": {},
   "outputs": [],
   "source": [
    "model_with_aug.compile(loss='binary_crossentropy',\n",
    "              optimizer = tf.keras.optimizers.RMSprop(learning_rate=0.0001),\n",
    "              metrics=['accuracy'])"
   ]
  },
  {
   "cell_type": "code",
   "execution_count": 17,
   "id": "71d66482",
   "metadata": {},
   "outputs": [
    {
     "name": "stdout",
     "output_type": "stream",
     "text": [
      "Epoch 1/20\n",
      "33/33 - 21s - 639ms/step - accuracy: 0.8374 - loss: 0.4363 - val_accuracy: 1.0000 - val_loss: 0.0143\n",
      "Epoch 2/20\n",
      "33/33 - 11s - 321ms/step - accuracy: 0.9494 - loss: 0.1308 - val_accuracy: 1.0000 - val_loss: 0.0060\n",
      "Epoch 3/20\n",
      "33/33 - 11s - 323ms/step - accuracy: 0.9572 - loss: 0.1041 - val_accuracy: 0.9961 - val_loss: 0.0061\n",
      "Epoch 4/20\n",
      "33/33 - 10s - 318ms/step - accuracy: 0.9659 - loss: 0.0902 - val_accuracy: 0.9922 - val_loss: 0.0246\n",
      "Epoch 5/20\n",
      "33/33 - 11s - 334ms/step - accuracy: 0.9776 - loss: 0.0623 - val_accuracy: 1.0000 - val_loss: 0.0018\n",
      "Epoch 6/20\n",
      "33/33 - 11s - 322ms/step - accuracy: 0.9796 - loss: 0.0457 - val_accuracy: 1.0000 - val_loss: 0.0018\n",
      "Epoch 7/20\n",
      "33/33 - 10s - 318ms/step - accuracy: 0.9815 - loss: 0.0501 - val_accuracy: 1.0000 - val_loss: 6.6690e-04\n",
      "Epoch 8/20\n",
      "33/33 - 10s - 318ms/step - accuracy: 0.9825 - loss: 0.0418 - val_accuracy: 1.0000 - val_loss: 3.5216e-04\n",
      "Epoch 9/20\n",
      "33/33 - 11s - 336ms/step - accuracy: 0.9922 - loss: 0.0259 - val_accuracy: 1.0000 - val_loss: 4.7065e-04\n",
      "Epoch 10/20\n",
      "33/33 - 11s - 319ms/step - accuracy: 0.9854 - loss: 0.0442 - val_accuracy: 1.0000 - val_loss: 0.0052\n",
      "Epoch 11/20\n",
      "33/33 - 11s - 319ms/step - accuracy: 0.9844 - loss: 0.0373 - val_accuracy: 1.0000 - val_loss: 3.1122e-04\n",
      "Epoch 12/20\n",
      "33/33 - 10s - 315ms/step - accuracy: 0.9864 - loss: 0.0526 - val_accuracy: 1.0000 - val_loss: 4.8113e-04\n",
      "Epoch 13/20\n",
      "33/33 - 11s - 339ms/step - accuracy: 0.9854 - loss: 0.0368 - val_accuracy: 1.0000 - val_loss: 0.0011\n",
      "Epoch 14/20\n",
      "33/33 - 11s - 321ms/step - accuracy: 0.9873 - loss: 0.0268 - val_accuracy: 1.0000 - val_loss: 0.0026\n",
      "Epoch 15/20\n",
      "33/33 - 11s - 319ms/step - accuracy: 0.9893 - loss: 0.0298 - val_accuracy: 0.9961 - val_loss: 0.0120\n",
      "Epoch 16/20\n",
      "33/33 - 11s - 338ms/step - accuracy: 0.9971 - loss: 0.0101 - val_accuracy: 0.9922 - val_loss: 0.0323\n",
      "Epoch 17/20\n",
      "33/33 - 11s - 328ms/step - accuracy: 0.9932 - loss: 0.0248 - val_accuracy: 1.0000 - val_loss: 2.3559e-04\n",
      "Epoch 18/20\n",
      "33/33 - 10s - 316ms/step - accuracy: 0.9854 - loss: 0.0281 - val_accuracy: 1.0000 - val_loss: 3.1988e-04\n",
      "Epoch 19/20\n",
      "33/33 - 10s - 317ms/step - accuracy: 0.9971 - loss: 0.0129 - val_accuracy: 1.0000 - val_loss: 0.0037\n",
      "Epoch 20/20\n",
      "33/33 - 11s - 340ms/step - accuracy: 0.9912 - loss: 0.0184 - val_accuracy: 1.0000 - val_loss: 9.4593e-05\n"
     ]
    }
   ],
   "source": [
    "\n",
    "history = model_with_aug.fit(\n",
    "    train_dataset_rescaled,\n",
    "    validation_data = validation_dataset_rescaled,\n",
    "    epochs=20,\n",
    "    verbose = 2\n",
    ")"
   ]
  },
  {
   "cell_type": "code",
   "execution_count": 19,
   "id": "47802ffa",
   "metadata": {},
   "outputs": [
    {
     "data": {
      "image/png": "[encoded data removed]",
      "text/plain": [
       "<Figure size 640x480 with 1 Axes>"
      ]
     },
     "metadata": {},
     "output_type": "display_data"
    }
   ],
   "source": [
    "from matplotlib import pyplot\n",
    "\n",
    "pyplot.plot(history.history['accuracy'])\n",
    "pyplot.plot(history.history['val_accuracy'])\n",
    "pyplot.plot(history.history['loss'])\n",
    "pyplot.plot(history.history['val_loss'])\n",
    "pyplot.title('Model Accuracy vs val_accuracy and Model loss vs val_loss')\n",
    "pyplot.xlabel('epochs')\n",
    "pyplot.legend(['accuracy','val_accuracy','loss','val_loss'],loc='upper right')\n",
    "pyplot.show()"
   ]
  },
  {
   "cell_type": "code",
   "execution_count": 20,
   "id": "60df95ec",
   "metadata": {},
   "outputs": [],
   "source": [
    "y = tf.keras.layers.Flatten()(last_output)\n",
    "y = tf.keras.layers.Dense(1024,activation='relu')(y)\n",
    "y = tf.keras.layers.Dropout(0.5)(y)\n",
    "y = tf.keras.layers.Dense(1,activation='sigmoid')(y)\n",
    "\n",
    "model1 = tf.keras.Model(pretrained_model.input, y)\n",
    "\n",
    "model1.compile(loss='binary_crossentropy', \n",
    "               optimizer=tf.keras.optimizers.RMSprop(learning_rate=0.001),\n",
    "               metrics=['accuracy'])"
   ]
  },
  {
   "cell_type": "code",
   "execution_count": 21,
   "id": "6ea4ce02",
   "metadata": {},
   "outputs": [],
   "source": [
    "model_with_aug1 = tf.keras.Sequential([\n",
    "    model_augmentation,\n",
    "    model1\n",
    "])\n",
    "\n",
    "model_with_aug1.compile(loss='binary_crossentropy', \n",
    "               optimizer=tf.keras.optimizers.RMSprop(learning_rate=0.001),\n",
    "               metrics=['accuracy'])"
   ]
  },
  {
   "cell_type": "code",
   "execution_count": 22,
   "id": "d583ff2f",
   "metadata": {},
   "outputs": [
    {
     "name": "stdout",
     "output_type": "stream",
     "text": [
      "Epoch 1/12\n",
      "33/33 - 19s - 563ms/step - accuracy: 0.7819 - loss: 2.8416 - val_accuracy: 1.0000 - val_loss: 0.0169\n",
      "Epoch 2/12\n",
      "33/33 - 11s - 334ms/step - accuracy: 0.9211 - loss: 0.2891 - val_accuracy: 0.9883 - val_loss: 0.0150\n",
      "Epoch 3/12\n",
      "33/33 - 11s - 322ms/step - accuracy: 0.9533 - loss: 0.1416 - val_accuracy: 1.0000 - val_loss: 4.2758e-05\n",
      "Epoch 4/12\n",
      "33/33 - 11s - 325ms/step - accuracy: 0.9426 - loss: 0.2417 - val_accuracy: 0.9844 - val_loss: 0.0478\n",
      "Epoch 5/12\n",
      "33/33 - 11s - 332ms/step - accuracy: 0.9484 - loss: 0.1671 - val_accuracy: 1.0000 - val_loss: 4.3337e-04\n",
      "Epoch 6/12\n",
      "33/33 - 11s - 325ms/step - accuracy: 0.9562 - loss: 0.1524 - val_accuracy: 0.9805 - val_loss: 0.0592\n",
      "Epoch 7/12\n",
      "33/33 - 11s - 323ms/step - accuracy: 0.9523 - loss: 0.1571 - val_accuracy: 1.0000 - val_loss: 8.7440e-05\n",
      "Epoch 8/12\n",
      "33/33 - 11s - 324ms/step - accuracy: 0.9630 - loss: 0.1257 - val_accuracy: 1.0000 - val_loss: 9.4072e-04\n",
      "Epoch 9/12\n",
      "33/33 - 11s - 337ms/step - accuracy: 0.9611 - loss: 0.1308 - val_accuracy: 1.0000 - val_loss: 7.7215e-05\n",
      "Epoch 10/12\n",
      "33/33 - 11s - 325ms/step - accuracy: 0.9776 - loss: 0.0844 - val_accuracy: 1.0000 - val_loss: 9.2552e-05\n",
      "Epoch 11/12\n",
      "33/33 - 11s - 323ms/step - accuracy: 0.9669 - loss: 0.1309 - val_accuracy: 1.0000 - val_loss: 7.9806e-06\n",
      "Epoch 12/12\n",
      "33/33 - 11s - 327ms/step - accuracy: 0.9825 - loss: 0.0664 - val_accuracy: 1.0000 - val_loss: 5.7039e-05\n"
     ]
    }
   ],
   "source": [
    "history1 = model_with_aug1.fit(\n",
    "    train_dataset_rescaled,\n",
    "    validation_data = validation_dataset_rescaled,\n",
    "    epochs=12,\n",
    "    verbose = 2\n",
    ")"
   ]
  },
  {
   "cell_type": "code",
   "execution_count": 23,
   "id": "c67a00dc",
   "metadata": {},
   "outputs": [
    {
     "data": {
      "image/png": "[encoded data removed]",
      "text/plain": [
       "<Figure size 640x480 with 1 Axes>"
      ]
     },
     "metadata": {},
     "output_type": "display_data"
    }
   ],
   "source": [
    "pyplot.plot(history1.history['accuracy'])\n",
    "pyplot.plot(history1.history['val_accuracy'])\n",
    "pyplot.plot(history1.history['loss'])\n",
    "pyplot.plot(history1.history['val_loss'])\n",
    "pyplot.title('Model Accuracy vs val_accuracy and Model loss vs val_loss')\n",
    "pyplot.xlabel('epochs')\n",
    "pyplot.legend(['accuracy','val_accuracy','loss','val_loss'],loc='upper right')\n",
    "pyplot.show()"
   ]
  },
  {
   "cell_type": "code",
   "execution_count": null,
   "id": "58257b64",
   "metadata": {},
   "outputs": [],
   "source": []
  }
 ],
 "metadata": {
  "kernelspec": {
   "display_name": "venv",
   "language": "python",
   "name": "python3"
  },
  "language_info": {
   "codemirror_mode": {
    "name": "ipython",
    "version": 3
   },
   "file_extension": ".py",
   "mimetype": "text/x-python",
   "name": "python",
   "nbconvert_exporter": "python",
   "pygments_lexer": "ipython3",
   "version": "3.12.3"
  }
 },
 "nbformat": 4,
 "nbformat_minor": 5
}
