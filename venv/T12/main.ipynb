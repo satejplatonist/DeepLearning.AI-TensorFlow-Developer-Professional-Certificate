{
 "cells": [
  {
   "cell_type": "code",
   "execution_count": 1,
   "id": "edcf4198",
   "metadata": {},
   "outputs": [],
   "source": [
    "import numpy as np\n",
    "import tensorflow as tf"
   ]
  },
  {
   "cell_type": "code",
   "execution_count": 2,
   "id": "50e30c4d",
   "metadata": {},
   "outputs": [],
   "source": [
    "sentences = [\n",
    "    'I love my dog',\n",
    "    'I love my cat',\n",
    "    'I love my cat and dog',\n",
    "    'I like to code'\n",
    "]"
   ]
  },
  {
   "cell_type": "code",
   "execution_count": 13,
   "id": "ba6c0292",
   "metadata": {},
   "outputs": [],
   "source": [
    "vectorization_layer = tf.keras.layers.TextVectorization() \n",
    "# can use ragged=True so you can tell that tensors can potentially have different shapes"
   ]
  },
  {
   "cell_type": "code",
   "execution_count": 14,
   "id": "66dcc694",
   "metadata": {},
   "outputs": [
    {
     "name": "stdout",
     "output_type": "stream",
     "text": [
      "['', '[UNK]', np.str_('i'), np.str_('my'), np.str_('love'), np.str_('dog'), np.str_('cat'), np.str_('to'), np.str_('like'), np.str_('code'), np.str_('and')] \n",
      "\n",
      "(0, <tf.Tensor: shape=(), dtype=string, numpy=b'I love my dog'>)\n",
      "(1, <tf.Tensor: shape=(), dtype=string, numpy=b'I love my cat'>)\n",
      "(2, <tf.Tensor: shape=(), dtype=string, numpy=b'I love my cat and dog'>)\n",
      "(3, <tf.Tensor: shape=(), dtype=string, numpy=b'I like to code'>)\n",
      "\n",
      "I love my dog -----> [2 4 3 5]\n",
      "I love my cat -----> [2 4 3 6]\n",
      "I love my cat and dog -----> [ 2  4  3  6 10  5]\n",
      "I like to code -----> [2 8 7 9]\n"
     ]
    }
   ],
   "source": [
    "vectorization_layer.adapt(sentences)\n",
    "vocabulary = vectorization_layer.get_vocabulary()\n",
    "print(vocabulary,\"\\n\")\n",
    "dataset = tf.data.Dataset.from_tensor_slices(sentences)\n",
    "for i in enumerate(dataset):\n",
    "    print(i)\n",
    "sequences = dataset.map(vectorization_layer)\n",
    "print()\n",
    "for sentence, sequence in zip(sentences,sequences):\n",
    "    print(f'{sentence} -----> {sequence}')"
   ]
  },
  {
   "cell_type": "code",
   "execution_count": 15,
   "id": "867232ad",
   "metadata": {},
   "outputs": [
    {
     "name": "stdout",
     "output_type": "stream",
     "text": [
      "[[ 0  0  2  4  3  5]\n",
      " [ 0  0  2  4  3  6]\n",
      " [ 2  4  3  6 10  5]\n",
      " [ 0  0  2  8  7  9]]\n"
     ]
    }
   ],
   "source": [
    "sentence_pre_pad = tf.keras.utils.pad_sequences(sequences,padding='pre')\n",
    "print(sentence_pre_pad)"
   ]
  },
  {
   "cell_type": "code",
   "execution_count": 16,
   "id": "726a8415",
   "metadata": {},
   "outputs": [],
   "source": [
    "test_data  = [\n",
    "    \"I really love my dog\",\n",
    "    \"I hate my cat\",\n",
    "    \"My dog eats pedegree\"\n",
    "]"
   ]
  },
  {
   "cell_type": "code",
   "execution_count": null,
   "id": "1e66e960",
   "metadata": {},
   "outputs": [
    {
     "name": "stdout",
     "output_type": "stream",
     "text": [
      "['', '[UNK]', np.str_('i'), np.str_('my'), np.str_('love'), np.str_('dog'), np.str_('cat'), np.str_('to'), np.str_('like'), np.str_('code'), np.str_('and')]\n",
      "tf.Tensor(\n",
      "[[2 1 4 3 5]\n",
      " [2 1 3 6 0]\n",
      " [3 5 1 1 0]], shape=(3, 5), dtype=int64)\n"
     ]
    }
   ],
   "source": [
    "test_seq = vectorization_layer(test_data)\n",
    "print(vectorization_layer.get_vocabulary())\n",
    "print(test_seq)"
   ]
  },
  {
   "cell_type": "code",
   "execution_count": null,
   "id": "245160c8",
   "metadata": {},
   "outputs": [],
   "source": []
  }
 ],
 "metadata": {
  "kernelspec": {
   "display_name": "venv",
   "language": "python",
   "name": "python3"
  },
  "language_info": {
   "codemirror_mode": {
    "name": "ipython",
    "version": 3
   },
   "file_extension": ".py",
   "mimetype": "text/x-python",
   "name": "python",
   "nbconvert_exporter": "python",
   "pygments_lexer": "ipython3",
   "version": "3.12.3"
  }
 },
 "nbformat": 4,
 "nbformat_minor": 5
}
