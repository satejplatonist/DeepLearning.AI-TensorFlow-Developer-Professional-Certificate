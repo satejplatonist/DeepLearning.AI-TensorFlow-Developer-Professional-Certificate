{
 "cells": [
  {
   "cell_type": "code",
   "execution_count": 1,
   "id": "edcf4198",
   "metadata": {},
   "outputs": [],
   "source": [
    "import numpy as np\n",
    "import tensorflow as tf"
   ]
  },
  {
   "cell_type": "code",
   "execution_count": 2,
   "id": "50e30c4d",
   "metadata": {},
   "outputs": [],
   "source": [
    "sentences = [\n",
    "    'I love my dog',\n",
    "    'I love my cat'\n",
    "]"
   ]
  },
  {
   "cell_type": "code",
   "execution_count": 4,
   "id": "ef5f6019",
   "metadata": {},
   "outputs": [
    {
     "name": "stdout",
     "output_type": "stream",
     "text": [
      "['', '[UNK]', np.str_('my'), np.str_('love'), np.str_('i'), np.str_('dog'), np.str_('cat')]\n",
      "[np.str_('my'), np.str_('love'), np.str_('i'), np.str_('dog'), np.str_('cat')]\n"
     ]
    }
   ],
   "source": [
    "vectorization_layer = tf.keras.layers.TextVectorization()\n",
    "\n",
    "vectorization_layer.adapt(sentences)\n",
    "vocabulary_with_special_tokens = vectorization_layer.get_vocabulary()\n",
    "vocabulary_without_special_tokens = vectorization_layer.get_vocabulary(include_special_tokens=False)\n",
    "print(vocabulary_with_special_tokens)\n",
    "print(vocabulary_without_special_tokens)"
   ]
  },
  {
   "cell_type": "code",
   "execution_count": null,
   "id": "c1af9994",
   "metadata": {},
   "outputs": [],
   "source": []
  }
 ],
 "metadata": {
  "kernelspec": {
   "display_name": "venv",
   "language": "python",
   "name": "python3"
  },
  "language_info": {
   "codemirror_mode": {
    "name": "ipython",
    "version": 3
   },
   "file_extension": ".py",
   "mimetype": "text/x-python",
   "name": "python",
   "nbconvert_exporter": "python",
   "pygments_lexer": "ipython3",
   "version": "3.12.3"
  }
 },
 "nbformat": 4,
 "nbformat_minor": 5
}
