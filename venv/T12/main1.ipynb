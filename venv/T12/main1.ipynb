{
 "cells": [
  {
   "cell_type": "code",
   "execution_count": 1,
   "id": "addbc246",
   "metadata": {},
   "outputs": [],
   "source": [
    "import tensorflow as tf\n",
    "import numpy as np\n",
    "import json\n",
    "import tensorflow_datasets as tfds"
   ]
  },
  {
   "cell_type": "code",
   "execution_count": 2,
   "id": "a85da666",
   "metadata": {},
   "outputs": [],
   "source": [
    "dataset_path = r\"D:\\TensorflowPractice\\venv\\Datasets\\sarcasm\\Sarcasm_Headlines_Dataset.json\"\n",
    "datastore = []\n",
    "\n",
    "with open(dataset_path, 'r') as f:\n",
    "    for line in f:\n",
    "        datastore.append(json.loads(line))  # Use loads(), not load()"
   ]
  },
  {
   "cell_type": "code",
   "execution_count": 5,
   "id": "0e075bd9",
   "metadata": {},
   "outputs": [
    {
     "data": {
      "text/plain": [
       "[{'article_link': 'https://www.huffingtonpost.com/entry/versace-black-code_us_5861fbefe4b0de3a08f600d5',\n",
       "  'headline': \"former versace store clerk sues over secret 'black code' for minority shoppers\",\n",
       "  'is_sarcastic': 0},\n",
       " {'article_link': 'https://www.huffingtonpost.com/entry/roseanne-revival-review_us_5ab3a497e4b054d118e04365',\n",
       "  'headline': \"the 'roseanne' revival catches up to our thorny political mood, for better and worse\",\n",
       "  'is_sarcastic': 0},\n",
       " {'article_link': 'https://local.theonion.com/mom-starting-to-fear-son-s-web-series-closest-thing-she-1819576697',\n",
       "  'headline': \"mom starting to fear son's web series closest thing she will have to grandchild\",\n",
       "  'is_sarcastic': 1},\n",
       " {'article_link': 'https://politics.theonion.com/boehner-just-wants-wife-to-listen-not-come-up-with-alt-1819574302',\n",
       "  'headline': 'boehner just wants wife to listen, not come up with alternative debt-reduction ideas',\n",
       "  'is_sarcastic': 1},\n",
       " {'article_link': 'https://www.huffingtonpost.com/entry/jk-rowling-wishes-snape-happy-birthday_us_569117c4e4b0cad15e64fdcb',\n",
       "  'headline': 'j.k. rowling wishes snape happy birthday in the most magical way',\n",
       "  'is_sarcastic': 0}]"
      ]
     },
     "execution_count": 5,
     "metadata": {},
     "output_type": "execute_result"
    }
   ],
   "source": [
    "datastore[:5]"
   ]
  },
  {
   "cell_type": "code",
   "execution_count": 6,
   "id": "d7510463",
   "metadata": {},
   "outputs": [],
   "source": [
    "sentences = [item['headline'] for item in datastore]"
   ]
  },
  {
   "cell_type": "code",
   "execution_count": 8,
   "id": "37a8b3d0",
   "metadata": {},
   "outputs": [
    {
     "name": "stdout",
     "output_type": "stream",
     "text": [
      "28435\n"
     ]
    }
   ],
   "source": [
    "vectorise_layer = tf.keras.layers.TextVectorization()\n",
    "vectorise_layer.adapt(sentences)\n",
    "print(len(vectorise_layer.get_vocabulary()))"
   ]
  },
  {
   "cell_type": "code",
   "execution_count": 9,
   "id": "7525204d",
   "metadata": {},
   "outputs": [],
   "source": [
    "post_padded_sequence = vectorise_layer(sentences)"
   ]
  },
  {
   "cell_type": "code",
   "execution_count": 10,
   "id": "4f7f9e74",
   "metadata": {},
   "outputs": [
    {
     "name": "stdout",
     "output_type": "stream",
     "text": [
      "sample headline mom starting to fear son's web series closest thing she will have to grandchild\n",
      "padded sequence [  140   825     2   813  1100  2048   571  5057   199   139    39    46\n",
      "     2 13050     0     0     0     0     0     0     0     0     0     0\n",
      "     0     0     0     0     0     0     0     0     0     0     0     0\n",
      "     0     0     0]\n",
      "\n",
      "padded sequence shape (26709, 39)\n"
     ]
    }
   ],
   "source": [
    "index = 2\n",
    "print(f'sample headline {sentences[index]}')\n",
    "print(f'padded sequence {post_padded_sequence[index]}')\n",
    "print()\n",
    "print(f'padded sequence shape {post_padded_sequence.shape}')"
   ]
  },
  {
   "cell_type": "code",
   "execution_count": 11,
   "id": "62d2276b",
   "metadata": {},
   "outputs": [
    {
     "name": "stdout",
     "output_type": "stream",
     "text": [
      "sample headline mom starting to fear son's web series closest thing she will have to grandchild\n",
      "ragged sequence [  140   825     2   813  1100  2048   571  5057   199   139    39    46\n",
      "     2 13050]\n",
      "\n",
      "ragged sequence shape (26709, None)\n"
     ]
    }
   ],
   "source": [
    "vectorise_layer1 = tf.keras.layers.TextVectorization(ragged=True)\n",
    "vectorise_layer1.adapt(sentences)\n",
    "ragged_sequence = vectorise_layer1(sentences)\n",
    "index = 2\n",
    "print(f'sample headline {sentences[index]}')\n",
    "print(f'ragged sequence {ragged_sequence[index]}')\n",
    "print()\n",
    "print(f'ragged sequence shape {ragged_sequence.shape}')"
   ]
  },
  {
   "cell_type": "code",
   "execution_count": 16,
   "id": "3a87bd03",
   "metadata": {},
   "outputs": [
    {
     "data": {
      "text/plain": [
       "array([    0,     0,     0,     0,     0,     0,     0,     0,     0,\n",
       "           0,     0,     0,     0,     0,     0,     0,     0,     0,\n",
       "           0,     0,     0,     0,     0,     0,     0,     0,     0,\n",
       "           0,     0,     0,     0,     0,     0,     0,     0, 14545,\n",
       "           4,   351,    72], dtype=int32)"
      ]
     },
     "execution_count": 16,
     "metadata": {},
     "output_type": "execute_result"
    }
   ],
   "source": [
    "pre_padded_sequences = tf.keras.utils.pad_sequences(ragged_sequence.numpy(), padding='pre')\n",
    "pre_padded_sequences[5]"
   ]
  },
  {
   "cell_type": "code",
   "execution_count": 17,
   "id": "c49cd704",
   "metadata": {},
   "outputs": [
    {
     "name": "stdout",
     "output_type": "stream",
     "text": [
      "sample headline: mom starting to fear son's web series closest thing she will have to grandchild\n",
      "\n",
      "post-padded sequence: [  140   825     2   813  1100  2048   571  5057   199   139    39    46\n",
      "     2 13050     0     0     0     0     0     0     0     0     0     0\n",
      "     0     0     0     0     0     0     0     0     0     0     0     0\n",
      "     0     0     0]\n",
      "\n",
      "pre-padded sequence: [    0     0     0     0     0     0     0     0     0     0     0     0\n",
      "     0     0     0     0     0     0     0     0     0     0     0     0\n",
      "     0   140   825     2   813  1100  2048   571  5057   199   139    39\n",
      "    46     2 13050]\n",
      "\n",
      "shape of post-padded sequences: (26709, 39)\n",
      "shape of pre-padded sequences: (26709, 39)\n"
     ]
    }
   ],
   "source": [
    "# Print a sample headline and sequence\n",
    "index = 2\n",
    "print(f'sample headline: {sentences[index]}')\n",
    "print()\n",
    "print(f'post-padded sequence: {post_padded_sequence[index]}')\n",
    "print()\n",
    "print(f'pre-padded sequence: {pre_padded_sequences[index]}')\n",
    "print()\n",
    "\n",
    "# Print dimensions of padded sequences\n",
    "print(f'shape of post-padded sequences: {post_padded_sequence.shape}')\n",
    "print(f'shape of pre-padded sequences: {pre_padded_sequences.shape}')"
   ]
  }
 ],
 "metadata": {
  "kernelspec": {
   "display_name": "venv",
   "language": "python",
   "name": "python3"
  },
  "language_info": {
   "codemirror_mode": {
    "name": "ipython",
    "version": 3
   },
   "file_extension": ".py",
   "mimetype": "text/x-python",
   "name": "python",
   "nbconvert_exporter": "python",
   "pygments_lexer": "ipython3",
   "version": "3.12.3"
  }
 },
 "nbformat": 4,
 "nbformat_minor": 5
}
