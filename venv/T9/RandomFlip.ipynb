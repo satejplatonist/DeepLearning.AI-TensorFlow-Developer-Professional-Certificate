{
 "cells": [
  {
   "cell_type": "code",
   "execution_count": 1,
   "id": "e44af89c",
   "metadata": {},
   "outputs": [],
   "source": [
    "import numpy as np\n",
    "import matplotlib.pyplot as plt\n",
    "import os\n",
    "from io import BytesIO\n",
    "import matplotlib.image as mpimg\n",
    "from ipywidgets import widgets"
   ]
  },
  {
   "cell_type": "code",
   "execution_count": null,
   "id": "9f541545",
   "metadata": {},
   "outputs": [],
   "source": [
    "# To be continued refer\n",
    "# https://keras.io/api/layers/preprocessing_layers/image_augmentation/random_flip/\n",
    "# https://www.tensorflow.org/api_docs/python/tf/keras/layers/RandomFlip\n",
    "# https://github.com/keras-team/keras/blob/v3.3.3/keras/src/layers/preprocessing/random_flip.py#L10-L97"
   ]
  }
 ],
 "metadata": {
  "kernelspec": {
   "display_name": "venv",
   "language": "python",
   "name": "python3"
  },
  "language_info": {
   "codemirror_mode": {
    "name": "ipython",
    "version": 3
   },
   "file_extension": ".py",
   "mimetype": "text/x-python",
   "name": "python",
   "nbconvert_exporter": "python",
   "pygments_lexer": "ipython3",
   "version": "3.12.3"
  }
 },
 "nbformat": 4,
 "nbformat_minor": 5
}
